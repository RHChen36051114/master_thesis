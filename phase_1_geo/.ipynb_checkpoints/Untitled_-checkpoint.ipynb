{
 "cells": [
  {
   "cell_type": "code",
   "execution_count": 218,
   "metadata": {},
   "outputs": [
    {
     "name": "stdout",
     "output_type": "stream",
     "text": [
      "Test amounts  :   76\n",
      "\n",
      "NDCG 5  :   0.6627597077815848\n",
      "NDCG 5 random  :   0.5330836875731704\n",
      "========================================\n",
      "NDCG 10  :   0.6936168866987631\n",
      "NDCG 10 random  :   0.5642618893209244\n"
     ]
    }
   ],
   "source": [
    "import sys\n",
    "\n",
    "data = []\n",
    "with open (\"testResult_phase1_test1_McDonald's_1000m_16part\", 'r') as f :\n",
    "    for line in f :\n",
    "        data.append ([float(row) for row in line.strip().split('\\t')])\n",
    "        \n",
    "ndcg_5 = 0\n",
    "ndcg_10 = 0\n",
    "ndcg_ran_5 = 0\n",
    "ndcg_ran_10 = 0\n",
    "\n",
    "for cnt in range(len(data)) :\n",
    "    ndcg_5 += data[cnt][0]\n",
    "    ndcg_ran_5 += data[cnt][2]\n",
    "    ndcg_10 += data[cnt][1]\n",
    "    ndcg_ran_10 += data[cnt][3]\n",
    "\n",
    "ndcg_5 /= len(data)\n",
    "ndcg_10 /= len(data)\n",
    "ndcg_ran_5 /= len(data)\n",
    "ndcg_ran_10 /= len(data)\n",
    "\n",
    "print (\"Test amounts  :  \", len(data))\n",
    "print (\"\")\n",
    "print (\"NDCG 5  :  \", ndcg_5)\n",
    "print (\"NDCG 5 random  :  \", ndcg_ran_5)\n",
    "print (\"========================================\")\n",
    "print (\"NDCG 10  :  \", ndcg_10)\n",
    "print (\"NDCG 10 random  :  \", ndcg_ran_10)\n",
    "    "
   ]
  },
  {
   "cell_type": "code",
   "execution_count": 346,
   "metadata": {},
   "outputs": [
    {
     "name": "stdout",
     "output_type": "stream",
     "text": [
      "Test amounts  :   1000\n",
      "\n",
      "NDCG 5  :   0.6245791795701174\n",
      "NDCG 10 :   0.6625989767586882\n"
     ]
    }
   ],
   "source": [
    "data = []\n",
    "with open (\"svrResult_Park_1000m_16part\", 'r') as f :\n",
    "    for line in f :\n",
    "        data.append ([float(row) for row in line.strip().split('\\t')])\n",
    "\n",
    "ndcg_5 = 0\n",
    "ndcg_10 = 0\n",
    "\n",
    "for cnt in range(len(data)) :\n",
    "    ndcg_5 += data[cnt][0]\n",
    "    ndcg_10 += data[cnt][1]\n",
    "\n",
    "ndcg_5 /= len(data)\n",
    "ndcg_10 /= len(data)\n",
    "\n",
    "\n",
    "print (\"Test amounts  :  \", len(data))\n",
    "print (\"\")\n",
    "print (\"NDCG 5  :  \", ndcg_5)\n",
    "print (\"NDCG 10 :  \", ndcg_10)\n"
   ]
  },
  {
   "cell_type": "code",
   "execution_count": 342,
   "metadata": {},
   "outputs": [
    {
     "name": "stdout",
     "output_type": "stream",
     "text": [
      "3\n",
      "(3, 3)\n",
      "[1 2 3 4 5 6 7 8 9]\n"
     ]
    }
   ],
   "source": [
    "import numpy as np\n",
    "\n",
    "a = float (3.1415926)\n",
    "a = float(\"{0:.3f}\".format(a))\n",
    "\n",
    "arr = ['1', '123', '3.123', '1.718']\n",
    "temp = [float(t) for t in arr]\n",
    "\n",
    "a = [[1, 2, 3], [4, 5, 6], [7, 8, 9]]\n",
    "a = np.array(a)\n",
    "print (len(a))\n",
    "print (a.shape)\n",
    "b = a.reshape (9)\n",
    "print (b)"
   ]
  },
  {
   "cell_type": "code",
   "execution_count": 249,
   "metadata": {},
   "outputs": [
    {
     "name": "stdout",
     "output_type": "stream",
     "text": [
      "Mean squared error = 14929.7 (regression)\n",
      "Squared correlation coefficient = 0.375613 (regression)\n",
      "\n",
      " 43 \n",
      "\n",
      " [629.0672949319475, 9.367325258173578, 54.33275316561171, -19.097258300879222, 0.9865774890345493, 11.633801650255473, 19.40371528497199, 189.0980185611929, 57.113752368725365, 62.38745795364341, 10.911930153569338, -55.88999496351814, 3.080367722122065, 8.083458893114647, 14.087168298287745, 4.080985956323036, 76.62179701356068, -5.973242843206198, -83.8316586164241, 2.7549491169014955, -47.179010053801235, -2.1011383692186287, 37.60228092369082, 13.375884741178945, 41.02291397973507, -8.217897021274512, 4.334292355187233, 17.74303632113087, -48.03524933694688, 78.34857860286728, 33.04630247675792, 48.99517622398174, 739.7758298355876, 6.171577844597397, 6.766997183177511, -15.365534969159063, 4.7742209325143525, 67.65771451564335, 3.5190247464491504, -113.31475382303655, 4.27828250350269, -34.28145821066308, 1.8909100055395092]\n",
      "\n",
      "\n",
      " [803.0, 2.0, 30.0, 6.0, 5.0, 12.0, 19.0, 22.0, 57.0, 23.0, 17.0, 5.0, 3.0, 8.0, 14.0, 4.0, 62.0, 12.0, 11.0, 3.0, 4.0, 2.0, 23.0, 3.0, 11.0, 2.0, 4.0, 17.0, 12.0, 31.0, 29.0, 16.0, 7.0, 3.0, 2.0, 3.0, 5.0, 21.0, 3.0, 10.0, 2.0, 11.0, 2.0]\n",
      "\n",
      "\n",
      "SVR NDCG5  :  0.8020779614139345\n",
      "\n",
      "\n",
      "SVR NDCG10  :  0.864697019652402\n"
     ]
    }
   ],
   "source": [
    "from svmutil import *\n",
    "import math as m\n",
    "\n",
    "def svr_buildModel (inputFile) :\n",
    "    y, x = svm_read_problem (inputFile)\n",
    "    model = svm_train (y, x, '-s 3 -c 5 -t 0 -e 0.001')\n",
    "    return model\n",
    "\n",
    "def svr_testResult (testFile, model) :\n",
    "    y, x = svm_read_problem (testFile)\n",
    "    result = svm_predict (y, x, model)\n",
    "    #return [(float(result[1][1]))**0.5, result[0]]\n",
    "    return result[0], y\n",
    "\n",
    "def NDCG (test, ground, ndcg_num) :\n",
    "    ndcg = .0\n",
    "    ideal_ndcg = .0\n",
    "    score = {}\n",
    "\n",
    "    for cnt in range(len(ground)) :\n",
    "        score[ground[cnt]] = len(ground) - cnt\n",
    "\n",
    "    for cnt in range(ndcg_num) :\n",
    "        ideal_ndcg += (len(ground)-cnt)/m.log2(cnt+2)\n",
    "        ndcg += score[test[cnt]] / m.log2(cnt+2)\n",
    "\n",
    "    return ndcg/ideal_ndcg\n",
    "\n",
    "\n",
    "if __name__ == \"__main__\" :\n",
    "    \n",
    "    #model = svr_buildModel (sys.argv[1])\n",
    "    #testResult = svr_testResult (sys.argv[2], model)\n",
    "    model = svr_buildModel (\"poiMAP_Park_500m_16part_svrInput_train\")\n",
    "    testResult, answer = svr_testResult (\"poiMAP_Park_500m_16part_svrInput_test\", model)\n",
    "    \n",
    "    print ('\\n', len(testResult), '\\n\\n', testResult)\n",
    "    print ('\\n\\n', answer)\n",
    "    \n",
    "    \n",
    "    anspos = sorted (range(len(answer)), key=lambda k: answer[k])\n",
    "    anspos.reverse()\n",
    "    \n",
    "    predpos = sorted (range(len(testResult)), key=lambda k: testResult[k])\n",
    "    predpos.reverse()\n",
    "    \n",
    "    print (\"\\n\\nSVR NDCG5  :  {}\".format(NDCG(predpos, anspos, 5)))\n",
    "    print (\"\\n\\nSVR NDCG10  :  {}\".format(NDCG(predpos, anspos, 10)))\n",
    "    \n"
   ]
  },
  {
   "cell_type": "code",
   "execution_count": null,
   "metadata": {
    "collapsed": true
   },
   "outputs": [],
   "source": []
  }
 ],
 "metadata": {
  "kernelspec": {
   "display_name": "Python 3",
   "language": "python",
   "name": "python3"
  },
  "language_info": {
   "codemirror_mode": {
    "name": "ipython",
    "version": 3
   },
   "file_extension": ".py",
   "mimetype": "text/x-python",
   "name": "python",
   "nbconvert_exporter": "python",
   "pygments_lexer": "ipython3",
   "version": "3.6.1"
  }
 },
 "nbformat": 4,
 "nbformat_minor": 2
}
